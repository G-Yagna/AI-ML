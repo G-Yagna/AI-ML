{
 "cells": [
  {
   "cell_type": "code",
   "execution_count": 3,
   "metadata": {},
   "outputs": [
    {
     "name": "stdout",
     "output_type": "stream",
     "text": [
      "Requirement already satisfied: opencv-python in f:\\pgp-aiml\\python_projects\\lib\\site-packages (4.5.1.48)\n",
      "Requirement already satisfied: numpy>=1.17.3 in f:\\pgp-aiml\\python_projects\\lib\\site-packages (from opencv-python) (1.19.5)\n",
      "Collecting tensorflow-hub\n",
      "  Downloading tensorflow_hub-0.11.0-py2.py3-none-any.whl (107 kB)\n",
      "Requirement already satisfied, skipping upgrade: protobuf>=3.8.0 in f:\\pgp-aiml\\python_projects\\lib\\site-packages (from tensorflow-hub) (3.15.3)\n",
      "Requirement already satisfied, skipping upgrade: numpy>=1.12.0 in f:\\pgp-aiml\\python_projects\\lib\\site-packages (from tensorflow-hub) (1.19.5)\n",
      "Requirement already satisfied, skipping upgrade: six>=1.9 in f:\\pgp-aiml\\python_projects\\lib\\site-packages (from protobuf>=3.8.0->tensorflow-hub) (1.15.0)\n",
      "Installing collected packages: tensorflow-hub\n",
      "Successfully installed tensorflow-hub-0.11.0\n"
     ]
    }
   ],
   "source": [
    "import sys\n",
    "!{sys.executable} -m pip install opencv-python\n",
    "!{sys.executable} -m pip install --upgrade tensorflow-hub"
   ]
  },
  {
   "cell_type": "code",
   "execution_count": 3,
   "metadata": {},
   "outputs": [],
   "source": [
    "from tensorflow.keras.preprocessing.image import ImageDataGenerator,load_img,img_to_array\n",
    "import tkinter as tk\n",
    "from tkinter import ttk ## This is fancy version of tkinter\n",
    "import re\n",
    "import h5py\n",
    "from keras.models import model_from_json\n",
    "from keras.models import load_model\n",
    "import cv2\n",
    "import numpy as np\n",
    "from skimage.io import imshow, imread\n",
    "from tensorflow.keras.utils import to_categorical\n",
    "import tensorflow_hub as hub\n",
    "import os\n",
    "from skimage.io import imread\n",
    "import matplotlib.pyplot as plt\n",
    "%matplotlib inline"
   ]
  },
  {
   "cell_type": "code",
   "execution_count": 4,
   "metadata": {},
   "outputs": [],
   "source": [
    "#Step 1:\n",
    "def Import_Data_Part1():\n",
    "     # Open the file as readonly\n",
    "    global DB\n",
    "    DF_Name=Name_var.get()\n",
    "    DB_extension=re.findall(\"\\..*\",DF_Name)\n",
    "    if DB_extension==['.png']:\n",
    "        json_file = open('ComputerVision_Part1.json', 'r')\n",
    "        loaded_model_json = json_file.read()\n",
    "        json_file.close()\n",
    "        loaded_model = model_from_json(loaded_model_json)\n",
    "        loaded_model.load_weights(\"ComputerVision_Part1.h5\")\n",
    "        predict_img= load_img(DF_Name)\n",
    "        x2=img_to_array(predict_img)\n",
    "        x2=cv2.resize(x2,(64,64))\n",
    "        x2=x2.reshape((1,)+x2.shape)\n",
    "        confirm_label1.set('Imported Successfully')\n",
    "    else:\n",
    "        confirm_label1.set('Imported UnSuccessfully')\n",
    "        \n",
    "\n"
   ]
  },
  {
   "cell_type": "code",
   "execution_count": 9,
   "metadata": {},
   "outputs": [],
   "source": [
    "# Step2 :\n",
    "def Import_Data_Part2():\n",
    "   # Open the file as readonly\n",
    "    global DB\n",
    "    DF_Name=Name_var2.get()\n",
    "    DB_extension=re.findall(\"\\..*\",DF_Name)\n",
    "    if DB_extension==['.jpg']:\n",
    "        json_file = open('ComputerVision_Part4.json', 'r')\n",
    "        loaded_model_json = json_file.read()\n",
    "        json_file.close()\n",
    "        loaded_model = model_from_json(loaded_model_json,custom_objects={'KerasLayer': hub.KerasLayer})\n",
    "        loaded_model.load_weights(\"ComputerVision_Part4.h5\")\n",
    "        predict_img= load_img(DF_Name)\n",
    "        x2=img_to_array(predict_img)\n",
    "        x2=cv2.resize(x2,(64,64))\n",
    "        x2=x2.reshape((1,)+x2.shape)\n",
    "        confirm_label2.set('Imported Successfully')\n",
    "    else:\n",
    "        confirm_label2.set(DF_Name)"
   ]
  },
  {
   "cell_type": "code",
   "execution_count": 18,
   "metadata": {},
   "outputs": [],
   "source": [
    "#We have to Make Tkinter Window\n",
    "win=tk.Tk();\n",
    "win.title('Classifier GUI - Great Learning')\n",
    "win.geometry(\"1000x550\")\n",
    "\n",
    "\n",
    "#step 1: Creation of \"Import data from input given\" -- Give Row and Column number in GUI for Part1\n",
    "Name=ttk.Label(win,text='Step 1 : Part 1 Predict Image Name')\n",
    "Name.grid(row=0,column=0,sticky=tk.W,padx=20,pady=20)\n",
    "\n",
    "Name_var=tk.StringVar()\n",
    "Name_entrybox=ttk.Entry(win,width=16,textvariable=Name_var)\n",
    "Name_entrybox.grid(row=0,column=1,padx=20,pady=20)\n",
    "\n",
    "\n",
    "Import_Data_Button=ttk.Button(win,text='Import Data',command=Import_Data_Part1)\n",
    "Import_Data_Button.grid(row=0,column=2,padx=20,pady=20)\n",
    "\n",
    "label1=ttk.Label(win,text='Status')\n",
    "label1.grid(row=0,column=3,sticky=tk.W,padx=20,pady=20)\n",
    "\n",
    "confirm_label1=tk.StringVar()\n",
    "confirm_label1_entrybox=ttk.Entry(win,width=25,textvariable=confirm_label1)\n",
    "confirm_label1_entrybox.grid(row=0,column=4,padx=20,pady=20)\n",
    "\n",
    "label2=ttk.Label(win,text='Enter Predict.png for part1')\n",
    "label2.grid(row=0,column=5,sticky=tk.W,padx=20,pady=20)\n",
    "\n",
    "\n",
    "#step 2: Creation of \"Import data from input given\" -- Give Row and Column number in GUI for part 2\n",
    "Name_part2=ttk.Label(win,text='Step 2 : Part 4 Predict Image Name')\n",
    "Name_part2.grid(row=1,column=0,sticky=tk.W,padx=20,pady=20)\n",
    "\n",
    "Name_var2=tk.StringVar()\n",
    "Name_entrybox2=ttk.Entry(win,width=16,textvariable=Name_var2)\n",
    "Name_entrybox2.grid(row=1,column=1,padx=20,pady=20)\n",
    "\n",
    "\n",
    "Import_Data_Button2=ttk.Button(win,text='Import Data',command=Import_Data_Part2)\n",
    "Import_Data_Button2.grid(row=1,column=2,padx=20,pady=20)\n",
    "\n",
    "label1=ttk.Label(win,text='Status')\n",
    "label1.grid(row=1,column=3,sticky=tk.W,padx=20,pady=20)\n",
    "\n",
    "confirm_label2=tk.StringVar()\n",
    "confirm_label2_entrybox=ttk.Entry(win,width=25,textvariable=confirm_label2)\n",
    "confirm_label2_entrybox.grid(row=1,column=4,padx=20,pady=20)\n",
    "\n",
    "\n",
    "label3=ttk.Label(win,text='Enter Prediction.jpg for part4')\n",
    "label3.grid(row=1,column=5,sticky=tk.W,padx=20,pady=20)\n",
    "\n",
    "#This used to run the window continuously till the user calls action button\n",
    "win.mainloop()"
   ]
  },
  {
   "cell_type": "code",
   "execution_count": null,
   "metadata": {},
   "outputs": [],
   "source": []
  }
 ],
 "metadata": {
  "kernelspec": {
   "display_name": "Python 3",
   "language": "python",
   "name": "python3"
  },
  "language_info": {
   "codemirror_mode": {
    "name": "ipython",
    "version": 3
   },
   "file_extension": ".py",
   "mimetype": "text/x-python",
   "name": "python",
   "nbconvert_exporter": "python",
   "pygments_lexer": "ipython3",
   "version": "3.8.3"
  }
 },
 "nbformat": 4,
 "nbformat_minor": 4
}
